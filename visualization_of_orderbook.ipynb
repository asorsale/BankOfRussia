{
 "cells": [
  {
   "cell_type": "code",
   "execution_count": null,
   "metadata": {},
   "outputs": [],
   "source": [
    "import numpy as np\n",
    "import pandas as pd\n",
    "import datetime\n",
    "import re\n",
    "\n",
    "import plotly.express as px\n",
    "from plotly.subplots import make_subplots\n",
    "import plotly.graph_objects as go"
   ]
  },
  {
   "cell_type": "markdown",
   "metadata": {},
   "source": [
    "# Преобразование исходных данных"
   ]
  },
  {
   "cell_type": "code",
   "execution_count": null,
   "metadata": {},
   "outputs": [],
   "source": [
    "\"\"\"Опишем функции для работы с исходным файлом\"\"\"\n",
    "\n",
    "def convdate(string):\n",
    "    \"\"\"\n",
    "    Конвертирует дату-строку в дату \n",
    "    \"\"\"\n",
    "    L = re.split('\\.|:| ', string)\n",
    "    L[0], L[2] = L[2], L[0]\n",
    "    return datetime.datetime(*list(map(int, L)))\n",
    "\n",
    "def dict_creation(file_name, start, finish):\n",
    "    \"\"\"\n",
    "    Создаёт словарь: тик - стакан\n",
    "    \"\"\"\n",
    "    D = dict()\n",
    "    with open(file_name) as f:\n",
    "        while True:\n",
    "            line = f.readline().rstrip()\n",
    "            if line[:8] == \"Received\":\n",
    "                if start <= convdate(line[10:]) <= finish:\n",
    "                    templob = [f.readline().rstrip() for _ in range(40)]\n",
    "                    D[convdate(line[10:])] = templob\n",
    "                elif convdate(line[10:]) > finish:\n",
    "                    break\n",
    "    return D\n"
   ]
  },
  {
   "cell_type": "code",
   "execution_count": null,
   "metadata": {},
   "outputs": [],
   "source": [
    "\"\"\"Считаем файл\"\"\"\n",
    "\n",
    "start = datetime.datetime(2020, 12, 2, 10)\n",
    "finish = datetime.datetime(2020, 12, 2, 18, 40)\n",
    "\n",
    "D = dict_creation(\"SBER.txt\", start, finish)"
   ]
  },
  {
   "cell_type": "code",
   "execution_count": null,
   "metadata": {},
   "outputs": [],
   "source": [
    "res_vector = []\n",
    "for item in D:\n",
    "    prices = []\n",
    "    volumes = []\n",
    "    vector = []\n",
    "    for i in range(40):\n",
    "        price, volume = D[item][i].split(';')[1:]\n",
    "        prices.append(float(price))\n",
    "        volumes.append(int(volume))\n",
    "#    demo_volume = volumes[:20]\n",
    "#    demo_ask = prices[:20]\n",
    "#    for i in range(20):\n",
    "#        prices.pop(0)\n",
    "#        volumes.pop(0)\n",
    "#    prices = demo_ask[::-1] + prices\n",
    "#    volumes = demo_volume[::-1] + volumes\n",
    "    prices = prices[::-1]\n",
    "    volumes = volumes[::-1]\n",
    "    for i in range(40):\n",
    "        vector.append(prices[i])\n",
    "        vector.append(volumes[i])\n",
    "    res_vector.append(vector)"
   ]
  },
  {
   "cell_type": "code",
   "execution_count": null,
   "metadata": {},
   "outputs": [],
   "source": [
    "indices = list(D.keys())\n",
    "A = np.array(res_vector)\n",
    "df = pd.DataFrame(A, index=indices)"
   ]
  },
  {
   "cell_type": "markdown",
   "metadata": {},
   "source": [
    "Таким образом, мы получили матрицу Numpy и таблицу DataFrame, в которых строки - тики, а столбцы: в нечётных - цена по возрастанию, а в чётных столбцах соответствующий объём для цены из предыдущего столбца."
   ]
  },
  {
   "cell_type": "code",
   "execution_count": null,
   "metadata": {},
   "outputs": [],
   "source": [
    "df.head()"
   ]
  },
  {
   "cell_type": "code",
   "execution_count": null,
   "metadata": {},
   "outputs": [],
   "source": [
    "# Ask already followed natural order\n",
    "dfAskPrices = df.loc[:, range(40, 80, 2)]\n",
    "dfAskVolumes = df.loc[:, range(41, 80, 2)]\n",
    "\n",
    "dfBidPrices = df.loc[:, range(0, 40, 2)]\n",
    "dfBidVolumes = df.loc[:, range(1, 40, 2)]\n",
    "\n",
    "# Reverse Bid price and volumnes to make them follow natural order\n",
    "#dfBidVolumes = dfBidVolumes[dfBidVolumes.columns[::-1]]\n",
    "\n",
    "# Concatenate Bid and Ask together to form complete orderbook picture\n",
    "dfPrices = df.iloc[:, range(0, 80, 2)]\n",
    "dfVolumnes = df.iloc[:, range(1, 80, 2)]\n",
    "\n",
    "#Rename columns starting from 1->20\n",
    "dfPrices.columns = range(1, 41)\n",
    "dfVolumnes.columns = range(1, 41)\n",
    "\n",
    "dfPrices.head()"
   ]
  },
  {
   "cell_type": "code",
   "execution_count": null,
   "metadata": {},
   "outputs": [],
   "source": [
    "dfVolumnes.head()"
   ]
  },
  {
   "cell_type": "markdown",
   "metadata": {},
   "source": [
    "# Динамика цены акций на всех 20 уровнях со стороны продажи и со стороны покупки"
   ]
  },
  {
   "cell_type": "code",
   "execution_count": null,
   "metadata": {},
   "outputs": [],
   "source": [
    "\"\"\"Графики не должны пересекаться, так как каждая кривая представляет собой динамику цены акции на ценовом уровне\"\"\"\n",
    "fig = go.Figure()\n",
    "\n",
    "#for i in dfPrices.columns:\n",
    "# for i in range(1,2): \n",
    "#    fig.add_trace(go.Scatter(y=dfPrices[100:200][i]))\n",
    "    \n",
    "\"\"\"Если мы хотим использовать только 2 цвета. Один цвет - со стороны покупки, другой - со стороны продажи\"\"\"\n",
    "for i in dfAskPrices.columns:\n",
    "    fig.add_trace(go.Scatter(y=dfAskPrices[100:200][i],\n",
    "                  line=dict(color='crimson')))\n",
    "    \n",
    "for i in dfBidPrices.columns:\n",
    "    fig.add_trace(go.Scatter(y=dfBidPrices[100:200][i],\n",
    "                  line=dict(color='lightslategrey')))\n",
    "\n",
    "fig.update_layout(\n",
    "    title='40 ценовых уровней в книге заявок',\n",
    "    xaxis_title=\"Время\",\n",
    "    yaxis_title=\"Цена\",\n",
    "#     template='plotly_dark',\n",
    "    height=500,\n",
    "    showlegend=False,\n",
    ")\n",
    "\n",
    "fig.show()"
   ]
  },
  {
   "cell_type": "markdown",
   "metadata": {},
   "source": [
    "# Объёмы ценовых уровней для тиков"
   ]
  },
  {
   "cell_type": "markdown",
   "metadata": {},
   "source": [
    "Один цвет соответствует одному тику. По горизонтали отложен объём в лотах. На представленной диаграмме видим, что на 11ом ценовом уровне только в начальный момент времени, во время первого тика было около 12 тысяч лотов, затем позиция исчезла."
   ]
  },
  {
   "cell_type": "code",
   "execution_count": null,
   "metadata": {},
   "outputs": [],
   "source": [
    "fig = px.bar(dfVolumnes.head(5).transpose(), orientation='h')\n",
    "fig.show()"
   ]
  },
  {
   "cell_type": "markdown",
   "metadata": {},
   "source": [
    "# Состояние книги заказов в заданный момент времени (тик)"
   ]
  },
  {
   "cell_type": "code",
   "execution_count": null,
   "metadata": {},
   "outputs": [],
   "source": [
    "colors = ['lightslategrey',] * 20\n",
    "colors = colors + ['crimson',] * 20"
   ]
  },
  {
   "cell_type": "code",
   "execution_count": null,
   "metadata": {},
   "outputs": [],
   "source": [
    "fig = go.Figure()\n",
    "timestamp = 10000\n",
    "\n",
    "fig.add_trace(go.Bar(\n",
    "    y= ['{:.2f}'.format(x) for x in dfPrices[:timestamp].values[1].tolist()],\n",
    "    x=dfVolumnes[:timestamp].values[1].tolist(),\n",
    "    orientation='h',\n",
    "    marker_color=colors\n",
    "))\n",
    "\n",
    "fig.update_layout(\n",
    "    title='40 ценовых уровней, размер бара представляет объём в лотах',\n",
    "    xaxis_title=\"Объём, лот\",\n",
    "    yaxis_title=\"Цена\",\n",
    "#     template='plotly_dark'\n",
    ")\n",
    "\n",
    "fig.show()"
   ]
  },
  {
   "cell_type": "markdown",
   "metadata": {},
   "source": [
    "# Изображение на одной диаграмме для нескольких тиков"
   ]
  },
  {
   "cell_type": "code",
   "execution_count": null,
   "metadata": {},
   "outputs": [],
   "source": [
    "fig = make_subplots(rows=1, cols=2)\n",
    "\n",
    "#for i in dfPrices.columns: \n",
    "#    fig.add_trace(go.Scatter(y=dfPrices.head(20)[i]), row=1, col=1)\n",
    "\"\"\"Если мы хотим использовать только 2 цвета. Один цвет - со стороны покупки, другой - со стороны продажи\"\"\"\n",
    "for i in dfAskPrices.columns:\n",
    "    fig.add_trace(go.Scatter(y=dfAskPrices[100:200][i],\n",
    "                  line=dict(color='crimson')))\n",
    "    \n",
    "for i in dfBidPrices.columns:\n",
    "    fig.add_trace(go.Scatter(y=dfBidPrices[100:200][i],\n",
    "                  line=dict(color='lightslategrey')))\n",
    "\n",
    "timestamp = 50000\n",
    "\n",
    "fig.add_trace(go.Bar(\n",
    "    y= ['{:.2f}'.format(x) for x in dfPrices[:timestamp].values[0].tolist()],\n",
    "    x=dfVolumnes[:timestamp].values[0].tolist(),\n",
    "    orientation='h',\n",
    "    marker_color=colors\n",
    "), row=1, col=2)\n",
    "\n",
    "fig.update_layout(\n",
    "    title='Динамика 40 ценовых уровней в книге заявок для нескольких тиков, справа - начальное состояние',\n",
    "    xaxis_title=\"Время\",\n",
    "    yaxis_title=\"Цена\",\n",
    "    template='plotly_dark'\n",
    ")\n",
    "\n",
    "fig.show()"
   ]
  },
  {
   "cell_type": "markdown",
   "metadata": {},
   "source": [
    "# Анимация динамики цены акции"
   ]
  },
  {
   "cell_type": "code",
   "execution_count": null,
   "metadata": {},
   "outputs": [],
   "source": [
    "widthOfTime = 100;\n",
    "\n",
    "fig = go.Figure(\n",
    "    data=[go.Scatter(x=dfPrices.index[:widthOfTime].tolist(), y=dfPrices[:widthOfTime][1].tolist(),\n",
    "                     name=\"frame\",\n",
    "                     mode=\"lines\",\n",
    "                     line=dict(width=2, color=\"crimson\")),\n",
    "          ],\n",
    "    layout=go.Layout(width=1000, height=400,\n",
    "#                      xaxis=dict(range=[0, 100], autorange=False, zeroline=False),\n",
    "#                      yaxis=dict(range=[0, 1], autorange=False, zeroline=False),\n",
    "                     title=\"Динамика цены акции\",\n",
    "                     xaxis_title=\"Время\",\n",
    "                     yaxis_title=\"Цена\",\n",
    "                     template='plotly_dark',\n",
    "                     hovermode=\"closest\",\n",
    "                     updatemenus=[dict(type=\"buttons\",\n",
    "                                       showactive=True,\n",
    "                                       x=0.01,\n",
    "                                       xanchor=\"left\",\n",
    "                                       y=1.15,\n",
    "                                       yanchor=\"top\",\n",
    "                                       font={\"color\":'blue'},\n",
    "                                       buttons=[dict(label=\"Play\",\n",
    "                                                     method=\"animate\",\n",
    "                                                     args=[None])])]),\n",
    "\n",
    "    frames=[go.Frame(\n",
    "        data=[go.Scatter(\n",
    "            x=dfPrices.iloc[k:k+widthOfTime].index.tolist(),\n",
    "            y=dfPrices.iloc[k:k+widthOfTime][1].tolist(),\n",
    "            mode=\"lines\",\n",
    "            line=dict(color=\"red\", width=2))\n",
    "        ]) for k in range(widthOfTime, 1000)]\n",
    ")\n",
    "\n",
    "fig.show()"
   ]
  },
  {
   "cell_type": "markdown",
   "metadata": {},
   "source": [
    "# Анимация объема книги заказов во времени "
   ]
  },
  {
   "cell_type": "code",
   "execution_count": null,
   "metadata": {},
   "outputs": [],
   "source": [
    "timeStampStart = 100\n",
    "\n",
    "\n",
    "fig = go.Figure(\n",
    "    data=[go.Bar(y= ['{:.2f}'.format(x) for x in dfPrices[:timeStampStart].values[0].tolist()],\n",
    "                 x=dfVolumnes[:timeStampStart].values[0].tolist(),\n",
    "                 orientation='h',\n",
    "                 name=\"priceBar\",\n",
    "                 marker_color=colors),\n",
    "          ],\n",
    "    layout=go.Layout(width=800, height=450,\n",
    "                     title=\"Динамика состояния книги заявок\",\n",
    "                     xaxis_title=\"Объём, лот\",\n",
    "                     yaxis_title=\"Цена\",\n",
    "                     template='plotly_dark',\n",
    "                     hovermode=\"closest\",\n",
    "                     updatemenus=[dict(type=\"buttons\",\n",
    "                                       showactive=True,\n",
    "                                       x=0.01,\n",
    "                                       xanchor=\"left\",\n",
    "                                       y=1.15,\n",
    "                                       yanchor=\"top\",\n",
    "                                       font={\"color\":'blue'},\n",
    "                                       buttons=[dict(label=\"Play\",\n",
    "                                                     method=\"animate\",\n",
    "                                                     args=[None])])]),\n",
    "    frames=[go.Frame(\n",
    "        data=[go.Bar(y= ['{:.2f}'.format(x) for x in dfPrices.iloc[k].values.tolist()],\n",
    "                     x=dfVolumnes.iloc[k].values.tolist(),\n",
    "                     orientation='h',\n",
    "                     marker_color=colors)],\n",
    "        layout=go.Layout(width=800, height=450,\n",
    "                     title=\"Динамика книги заявок [Время=\" + str(indices[k]) +\"]\",\n",
    "                     xaxis_title=\"Объём, лот\",\n",
    "                     yaxis_title=\"Цена\",\n",
    "                     template='plotly_dark',\n",
    "                     hovermode=\"closest\")) for k in range(timeStampStart, 500)]\n",
    ")\n",
    "\n",
    "fig.show()"
   ]
  }
 ],
 "metadata": {
  "kernelspec": {
   "display_name": "Python 3",
   "language": "python",
   "name": "python3"
  },
  "language_info": {
   "codemirror_mode": {
    "name": "ipython",
    "version": 3
   },
   "file_extension": ".py",
   "mimetype": "text/x-python",
   "name": "python",
   "nbconvert_exporter": "python",
   "pygments_lexer": "ipython3",
   "version": "3.8.3"
  }
 },
 "nbformat": 4,
 "nbformat_minor": 4
}
